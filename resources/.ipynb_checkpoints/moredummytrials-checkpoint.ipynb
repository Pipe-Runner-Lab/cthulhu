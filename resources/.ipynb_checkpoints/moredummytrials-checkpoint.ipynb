{
 "cells": [
  {
   "cell_type": "code",
   "execution_count": 1,
   "metadata": {},
   "outputs": [],
   "source": [
    "import sympy as sp\n",
    "import numpy as np\n",
    "from sympy import init_printing\n",
    "init_printing()"
   ]
  },
  {
   "cell_type": "code",
   "execution_count": 19,
   "metadata": {},
   "outputs": [
    {
     "name": "stdout",
     "output_type": "stream",
     "text": [
      "Matrix([[0, 0], [0, 0], [0, 0], [0.0387596899224806, 0], [0, -0.113039673278880], [0, 0.616248541423571]])\n"
     ]
    },
    {
     "data": {
      "text/latex": [
       "$\\displaystyle \\left[\\begin{matrix}u \\cos{\\left(\\psi \\right)} - v \\sin{\\left(\\psi \\right)}\\\\u \\sin{\\left(\\psi \\right)} + v \\cos{\\left(\\psi \\right)}\\\\r\\\\- 0.0387596899224806 r \\left(- 6.2 r - 33.8 v\\right) - 0.0387596899224806 u \\left(2.1 u + 12\\right)\\\\0.11303967327888 r \\left(0.5 - 0.1 r\\right) - 0.0503208868144691 r \\left(25.8 u + 0.2\\right) + 0.11303967327888 u \\left(6.2 r + 33.8 v\\right) + 0.11303967327888 v \\left(0.5 - 25.8 u\\right) - 0.0503208868144691 v \\left(4.5 v + 17\\right)\\\\- 0.616248541423571 r \\left(0.5 - 0.1 r\\right) + 0.11303967327888 r \\left(25.8 u + 0.2\\right) - 0.616248541423571 u \\left(6.2 r + 33.8 v\\right) - 0.616248541423571 v \\left(0.5 - 25.8 u\\right) + 0.11303967327888 v \\left(4.5 v + 17\\right)\\end{matrix}\\right]$"
      ],
      "text/plain": [
       "⎡                                                                                u⋅cos(ψ) - v⋅sin(ψ)                                                                                 ⎤\n",
       "⎢                                                                                                                                                                                    ⎥\n",
       "⎢                                                                                u⋅sin(ψ) + v⋅cos(ψ)                                                                                 ⎥\n",
       "⎢                                                                                                                                                                                    ⎥\n",
       "⎢                                                                                         r                                                                                          ⎥\n",
       "⎢                                                                                                                                                                                    ⎥\n",
       "⎢                                                    -0.0387596899224806⋅r⋅(-6.2⋅r - 33.8⋅v) - 0.0387596899224806⋅u⋅(2.1⋅u + 12)                                                     ⎥\n",
       "⎢                                                                                                                                                                                    ⎥\n",
       "⎢0.11303967327888⋅r⋅(0.5 - 0.1⋅r) - 0.0503208868144691⋅r⋅(25.8⋅u + 0.2) + 0.11303967327888⋅u⋅(6.2⋅r + 33.8⋅v) + 0.11303967327888⋅v⋅(0.5 - 25.8⋅u) - 0.0503208868144691⋅v⋅(4.5⋅v + 17)⎥\n",
       "⎢                                                                                                                                                                                    ⎥\n",
       "⎣-0.616248541423571⋅r⋅(0.5 - 0.1⋅r) + 0.11303967327888⋅r⋅(25.8⋅u + 0.2) - 0.616248541423571⋅u⋅(6.2⋅r + 33.8⋅v) - 0.616248541423571⋅v⋅(0.5 - 25.8⋅u) + 0.11303967327888⋅v⋅(4.5⋅v + 17)⎦"
      ]
     },
     "execution_count": 19,
     "metadata": {},
     "output_type": "execute_result"
    }
   ],
   "source": [
    "A = sp.zeros(3,2)\n",
    "B = np.zeros((3,2))\n",
    "m11, m22, m23, m32, m33  = 25.8, 33.8, 6.2, 6.2, 2.76\n",
    "Xu, Xuu, Yv, Yvv, Yr, Nv, Nr, Nrr = -12, -2.1,-17, -4.5, -0.2, -0.5, -0.5,-0.1\n",
    "A = sp.eye(6)\n",
    "Btau = sp.Matrix([[1,0],[0,0],[0,1]])\n",
    "M = sp.Matrix([[m11, 0, 0],[0, m22, m23],[0, m32, m33]])\n",
    "M_inv = M.inv() # inverse of M\n",
    "\n",
    "Btau = sp.Matrix([[1,0],[0,0],[0,1]])\n",
    "B2 = M_inv * Btau\n",
    "BF = np.concatenate((B,B2))\n",
    "BF2 = sp.Matrix(BF)\n",
    "print(BF2)\n",
    "# INTERMEZZO FOR JACOBIAN CALCULATION\n",
    "x, y, psi, u, v, r = sp.symbols('x y psi u v r')\n",
    "x_jac = sp.Matrix([\n",
    "    x,\n",
    "    y,\n",
    "    psi,\n",
    "    u,\n",
    "    v,\n",
    "    r\n",
    "])\n",
    "\n",
    "def D():\n",
    "    return sp.Matrix([\n",
    "        [Xu+Xuu*u, 0, 0], \n",
    "        [0, Yv+Yvv*v, Yr],\n",
    "        [0, Nv, Nr+Nrr*-r]\n",
    "    ])\n",
    "\n",
    "\n",
    "def C():\n",
    "    c13 = -m22* v - ((m23+m32)/2) * r\n",
    "    c23 = m11*u\n",
    "    return sp.Matrix([\n",
    "        [0,0,c13],\n",
    "        [0,0, c23],\n",
    "        [-c13,-c23,0]\n",
    "    ])\n",
    "\n",
    "def R():\n",
    "    return sp.Matrix([\n",
    "        [sp.cos((psi)), -sp.sin((psi)), 0],\n",
    "        [sp.sin((psi)), sp.cos((psi)), 0],\n",
    "        [0,0,1]\n",
    "    ])\n",
    "\n",
    "def F():\n",
    "    eta = sp.Matrix([ # INFO: this should be nu, eta is [x, y, sai] in paper\n",
    "        [(u)],\n",
    "        [(v)], \n",
    "        [(r)]\n",
    "    ])\n",
    "    F1 = R() * eta\n",
    "    F2 = -M_inv * ((C() - D()) * eta)\n",
    "    return sp.Matrix(np.concatenate((F1,F2)))\n",
    "\n",
    "F()"
   ]
  },
  {
   "cell_type": "code",
   "execution_count": 7,
   "metadata": {},
   "outputs": [],
   "source": [
    "def round_expr(expr, num_digits):\n",
    "    return expr.xreplace({n : round(n, num_digits) for n in expr.atoms(sp.Number)})"
   ]
  },
  {
   "cell_type": "code",
   "execution_count": 8,
   "metadata": {},
   "outputs": [
    {
     "data": {
      "text/latex": [
       "$\\displaystyle \\left[\\begin{matrix}u \\cos{\\left(\\psi \\right)} - v \\sin{\\left(\\psi \\right)}\\\\u \\sin{\\left(\\psi \\right)} + v \\cos{\\left(\\psi \\right)}\\\\r\\\\- 0.039 r \\left(- 6.2 r - 33.8 v\\right) - 0.039 u \\left(2.1 u + 12\\right)\\\\0.113 r \\left(0.5 - 0.1 r\\right) - 0.05 r \\left(25.8 u + 0.2\\right) + 0.113 u \\left(6.2 r + 33.8 v\\right) + 0.113 v \\left(0.5 - 25.8 u\\right) - 0.05 v \\left(4.5 v + 17\\right)\\\\- 0.616 r \\left(0.5 - 0.1 r\\right) + 0.113 r \\left(25.8 u + 0.2\\right) - 0.616 u \\left(6.2 r + 33.8 v\\right) - 0.616 v \\left(0.5 - 25.8 u\\right) + 0.113 v \\left(4.5 v + 17\\right)\\end{matrix}\\right]$"
      ],
      "text/plain": [
       "⎡                                                   u⋅cos(ψ) - v⋅sin(ψ)       \n",
       "⎢                                                                             \n",
       "⎢                                                   u⋅sin(ψ) + v⋅cos(ψ)       \n",
       "⎢                                                                             \n",
       "⎢                                                            r                \n",
       "⎢                                                                             \n",
       "⎢                                    -0.039⋅r⋅(-6.2⋅r - 33.8⋅v) - 0.039⋅u⋅(2.1\n",
       "⎢                                                                             \n",
       "⎢ 0.113⋅r⋅(0.5 - 0.1⋅r) - 0.05⋅r⋅(25.8⋅u + 0.2) + 0.113⋅u⋅(6.2⋅r + 33.8⋅v) + 0\n",
       "⎢                                                                             \n",
       "⎣-0.616⋅r⋅(0.5 - 0.1⋅r) + 0.113⋅r⋅(25.8⋅u + 0.2) - 0.616⋅u⋅(6.2⋅r + 33.8⋅v) - \n",
       "\n",
       "                                             ⎤\n",
       "                                             ⎥\n",
       "                                             ⎥\n",
       "                                             ⎥\n",
       "                                             ⎥\n",
       "                                             ⎥\n",
       "⋅u + 12)                                     ⎥\n",
       "                                             ⎥\n",
       ".113⋅v⋅(0.5 - 25.8⋅u) - 0.05⋅v⋅(4.5⋅v + 17)  ⎥\n",
       "                                             ⎥\n",
       "0.616⋅v⋅(0.5 - 25.8⋅u) + 0.113⋅v⋅(4.5⋅v + 17)⎦"
      ]
     },
     "execution_count": 8,
     "metadata": {},
     "output_type": "execute_result"
    }
   ],
   "source": [
    "round_expr(F(),3)"
   ]
  },
  {
   "cell_type": "code",
   "execution_count": 9,
   "metadata": {},
   "outputs": [
    {
     "data": {
      "text/latex": [
       "$\\displaystyle \\left[\\begin{matrix}0 & 0 & - u \\sin{\\left(\\psi \\right)} - v \\cos{\\left(\\psi \\right)} & \\cos{\\left(\\psi \\right)} & - \\sin{\\left(\\psi \\right)} & 0\\\\0 & 0 & u \\cos{\\left(\\psi \\right)} - v \\sin{\\left(\\psi \\right)} & \\sin{\\left(\\psi \\right)} & \\cos{\\left(\\psi \\right)} & 0\\\\0 & 0 & 0 & 0 & 0 & 1\\\\0 & 0 & 0 & - 0.16 u - 0.47 & 1.31 r & 0.48 r + 1.31 v\\\\0 & 0 & 0 & - 0.6 r + 0.9 v & 0.9 u - 0.45 v - 0.8 & - 0.02 r - 0.6 u + 0.05\\\\0 & 0 & 0 & - 0.9 r - 4.93 v & - 4.93 u + 1.02 v + 1.61 & 0.12 r - 0.9 u - 0.29\\end{matrix}\\right]$"
      ],
      "text/plain": [
       "⎡0  0  -u⋅sin(ψ) - v⋅cos(ψ)      cos(ψ)               -sin(ψ)                 \n",
       "⎢                                                                             \n",
       "⎢0  0  u⋅cos(ψ) - v⋅sin(ψ)       sin(ψ)               cos(ψ)                  \n",
       "⎢                                                                             \n",
       "⎢0  0           0                   0                    0                    \n",
       "⎢                                                                             \n",
       "⎢0  0           0            -0.16⋅u - 0.47           1.31⋅r              0.48\n",
       "⎢                                                                             \n",
       "⎢0  0           0            -0.6⋅r + 0.9⋅v    0.9⋅u - 0.45⋅v - 0.8    -0.02⋅r\n",
       "⎢                                                                             \n",
       "⎣0  0           0            -0.9⋅r - 4.93⋅v  -4.93⋅u + 1.02⋅v + 1.61  0.12⋅r \n",
       "\n",
       "   0           ⎤\n",
       "               ⎥\n",
       "   0           ⎥\n",
       "               ⎥\n",
       "   1           ⎥\n",
       "               ⎥\n",
       "⋅r + 1.31⋅v    ⎥\n",
       "               ⎥\n",
       " - 0.6⋅u + 0.05⎥\n",
       "               ⎥\n",
       "- 0.9⋅u - 0.29 ⎦"
      ]
     },
     "execution_count": 9,
     "metadata": {},
     "output_type": "execute_result"
    }
   ],
   "source": [
    "round_expr(F().jacobian(x_jac),2)"
   ]
  },
  {
   "cell_type": "code",
   "execution_count": null,
   "metadata": {},
   "outputs": [],
   "source": []
  }
 ],
 "metadata": {
  "kernelspec": {
   "display_name": "Python 3 (ipykernel)",
   "language": "python",
   "name": "python3"
  },
  "language_info": {
   "codemirror_mode": {
    "name": "ipython",
    "version": 3
   },
   "file_extension": ".py",
   "mimetype": "text/x-python",
   "name": "python",
   "nbconvert_exporter": "python",
   "pygments_lexer": "ipython3",
   "version": "3.11.0"
  }
 },
 "nbformat": 4,
 "nbformat_minor": 4
}
