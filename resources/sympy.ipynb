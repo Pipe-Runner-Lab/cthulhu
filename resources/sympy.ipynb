{
 "cells": [
  {
   "cell_type": "code",
   "execution_count": 10,
   "id": "ea08fa7b-97b6-4431-a0bb-ee417944e4d3",
   "metadata": {},
   "outputs": [],
   "source": [
    "from sympy import Symbol, symbols, Matrix, transpose, Transpose, python, lambdify, Derivative, MutableDenseMatrix, cos, sin\n",
    "from sympy.utilities.lambdify import lambdastr\n",
    "from sympy import init_printing"
   ]
  },
  {
   "cell_type": "code",
   "execution_count": 11,
   "id": "25ee24f4-8b11-4d9a-8e5d-7e4c4930b412",
   "metadata": {},
   "outputs": [],
   "source": [
    "x, y, sai, u, v, r = symbols('x y psi u v r')\n",
    "u1, u2 = symbols('u1 u2')\n",
    "\n",
    "# gs = Matrix([[xs+(vs/dpsis)*(sin(psis+dpsis*dts)-sin(psis))],\n",
    "#              [ys+(vs/dpsis)*(-cos(psis+dpsis*dts)+cos(psis))],\n",
    "#              [psis+dpsis*dts],\n",
    "#              [vs],\n",
    "#              [dpsis]])\n",
    "\n",
    "state = Matrix([x, y, sai, u, v, r])\n",
    "U = Matrix([u1, u2])"
   ]
  },
  {
   "cell_type": "code",
   "execution_count": 15,
   "id": "533e4160-f1d7-457e-9a18-7c12c2a9bda9",
   "metadata": {},
   "outputs": [
    {
     "data": {
      "text/latex": [
       "$\\displaystyle \\left[\\begin{matrix}u \\cos{\\left(\\psi \\right)} - v \\sin{\\left(\\psi \\right)}\\\\u \\sin{\\left(\\psi \\right)} + v \\cos{\\left(\\psi \\right)}\\\\r\\\\r \\left(0.24031007751938 r + 1.31007751937984 v\\right) + u \\left(- 0.0813953488372093 u - 0.465116279069767\\right) + 0.0387596899224806 u_{1}\\\\r \\left(- 0.011303967327888 r - 1.2982788798133 u + 0.0464556592765461\\right) + u \\left(0.700845974329055 r + 3.82074095682614 v\\right) - 0.11303967327888 u_{2} + v \\left(- 2.9164235705951 u - 0.226443990665111 v - 0.798935239206535\\right)\\\\r \\left(0.0616248541423571 r + 2.9164235705951 u - 0.285516336056009\\right) + u \\left(- 3.82074095682614 r - 20.8292007001167 v\\right) + 0.616248541423571 u_{2} + v \\left(15.8992123687281 u + 0.508678529754959 v + 1.61355017502917\\right)\\end{matrix}\\right]$"
      ],
      "text/plain": [
       "Matrix([\n",
       "[                                                                                                                                                                                  u*cos(psi) - v*sin(psi)],\n",
       "[                                                                                                                                                                                  u*sin(psi) + v*cos(psi)],\n",
       "[                                                                                                                                                                                                        r],\n",
       "[                                                                                      r*(0.24031007751938*r + 1.31007751937984*v) + u*(-0.0813953488372093*u - 0.465116279069767) + 0.0387596899224806*u1],\n",
       "[r*(-0.011303967327888*r - 1.2982788798133*u + 0.0464556592765461) + u*(0.700845974329055*r + 3.82074095682614*v) - 0.11303967327888*u2 + v*(-2.9164235705951*u - 0.226443990665111*v - 0.798935239206535)],\n",
       "[ r*(0.0616248541423571*r + 2.9164235705951*u - 0.285516336056009) + u*(-3.82074095682614*r - 20.8292007001167*v) + 0.616248541423571*u2 + v*(15.8992123687281*u + 0.508678529754959*v + 1.61355017502917)]])"
      ]
     },
     "execution_count": 15,
     "metadata": {},
     "output_type": "execute_result"
    }
   ],
   "source": [
    "M = Matrix([\n",
    "    [25.8, 0, 0],\n",
    "    [0, 33.8, 6.2],\n",
    "    [0, 6.2, 2.76]\n",
    "])\n",
    "\n",
    "Bt = Matrix([\n",
    "    [1, 0],\n",
    "    [0, 0],\n",
    "    [0, 1]\n",
    "])\n",
    "\n",
    "Minv = M.inv()\n",
    "\n",
    "def eta(u, v, sai):\n",
    "    return Matrix([[u], [v], [sai]])\n",
    "\n",
    "def nu(x, y, r):\n",
    "    return Matrix([[x], [y], [r]])\n",
    "\n",
    "def C(V):\n",
    "    u = V[0]\n",
    "    v = V[1]\n",
    "    r = V[2]\n",
    "    c13 = -33.8*v -(6.2+6.2)*r/2\n",
    "    c23 = 25.8*u\n",
    "    return Matrix([\n",
    "        [0, 0, c13],\n",
    "        [0, 0, c23],\n",
    "        [-c13, -c23, 0]\n",
    "    ])\n",
    "\n",
    "def D(V):\n",
    "    u = V[0]\n",
    "    v = V[1]\n",
    "    r = V[2]\n",
    "    # return -Matrix([\n",
    "    #     [-12 - 2.1 * abs(u), 0, 0],\n",
    "    #     [0, -17 - 4.5 * abs(v) , -0.2],\n",
    "    #     [0, -0.5, -0.5 - 0.1 * abs(r)]\n",
    "    # ])\n",
    "    # Abs causing issue in differentiability\n",
    "    return -Matrix([\n",
    "        [-12 - 2.1 * u, 0, 0],\n",
    "        [0, -17 - 4.5 * v , -0.2],\n",
    "        [0, -0.5, -0.5 - 0.1 * -r]\n",
    "    ])\n",
    "\n",
    "def R(sai):\n",
    "    return Matrix([\n",
    "        [cos(sai), -sin(sai), 0],\n",
    "        [sin(sai), cos(sai), 0],\n",
    "        [0, 0, 1]\n",
    "    ])\n",
    "\n",
    "def fx(V, sai):\n",
    "    a = R(sai)*V\n",
    "    b = -Minv*(C(V) + D(V))*V\n",
    "    c = Matrix.vstack(a, b).reshape(6, 1) # TODO\n",
    "    return c\n",
    "\n",
    "\n",
    "def B():\n",
    "    a = Matrix([\n",
    "        [0, 0],\n",
    "        [0, 0],\n",
    "        [0, 0]\n",
    "    ])\n",
    "    b = Minv*Bt\n",
    "    c = Matrix.vstack(a, b)\n",
    "    return c\n",
    "\n",
    "# X = [x, y, sai, u, v, r]\n",
    "def dx(X, t = None, U = Matrix([[0], [0]])):\n",
    "    V = Matrix(X[3:])\n",
    "    sai = X[2]\n",
    "    return fx(V, sai) + B()*U\n",
    "\n",
    "fx = dx(state, U=U)\n",
    "fx"
   ]
  },
  {
   "cell_type": "code",
   "execution_count": 16,
   "id": "3f343e44-3d91-40ae-87f8-2d85bfdafa9f",
   "metadata": {},
   "outputs": [
    {
     "data": {
      "text/latex": [
       "$\\displaystyle \\left[\\begin{matrix}0 & 0 & - u \\sin{\\left(\\psi \\right)} - v \\cos{\\left(\\psi \\right)} & \\cos{\\left(\\psi \\right)} & - \\sin{\\left(\\psi \\right)} & 0\\\\0 & 0 & u \\cos{\\left(\\psi \\right)} - v \\sin{\\left(\\psi \\right)} & \\sin{\\left(\\psi \\right)} & \\cos{\\left(\\psi \\right)} & 0\\\\0 & 0 & 0 & 0 & 0 & 1\\\\0 & 0 & 0 & - 0.162790697674419 u - 0.465116279069767 & 1.31007751937984 r & 0.48062015503876 r + 1.31007751937984 v\\\\0 & 0 & 0 & - 0.597432905484247 r + 0.904317386231039 v & 0.904317386231039 u - 0.452887981330222 v - 0.798935239206535 & - 0.022607934655776 r - 0.597432905484247 u + 0.0464556592765461\\\\0 & 0 & 0 & - 0.904317386231039 r - 4.92998833138856 v & - 4.92998833138856 u + 1.01735705950992 v + 1.61355017502917 & 0.123249708284714 r - 0.904317386231039 u - 0.285516336056009\\end{matrix}\\right]$"
      ],
      "text/plain": [
       "Matrix([\n",
       "[0, 0, -u*sin(psi) - v*cos(psi),                                   cos(psi),                                                     -sin(psi),                                                               0],\n",
       "[0, 0,  u*cos(psi) - v*sin(psi),                                   sin(psi),                                                      cos(psi),                                                               0],\n",
       "[0, 0,                        0,                                          0,                                                             0,                                                               1],\n",
       "[0, 0,                        0,   -0.162790697674419*u - 0.465116279069767,                                            1.31007751937984*r,                         0.48062015503876*r + 1.31007751937984*v],\n",
       "[0, 0,                        0, -0.597432905484247*r + 0.904317386231039*v, 0.904317386231039*u - 0.452887981330222*v - 0.798935239206535, -0.022607934655776*r - 0.597432905484247*u + 0.0464556592765461],\n",
       "[0, 0,                        0,  -0.904317386231039*r - 4.92998833138856*v,   -4.92998833138856*u + 1.01735705950992*v + 1.61355017502917,   0.123249708284714*r - 0.904317386231039*u - 0.285516336056009]])"
      ]
     },
     "execution_count": 16,
     "metadata": {},
     "output_type": "execute_result"
    }
   ],
   "source": [
    "fx.jacobian(state)"
   ]
  },
  {
   "cell_type": "code",
   "execution_count": 17,
   "id": "53f45eae-cb2f-4931-bbe0-734f76d05355",
   "metadata": {},
   "outputs": [
    {
     "name": "stdout",
     "output_type": "stream",
     "text": [
      "lambda x,y,psi,u,v,r: (ImmutableDenseMatrix([[0, 0, -u*math.sin(psi) - v*math.cos(psi), math.cos(psi), -math.sin(psi), 0], [0, 0, u*math.cos(psi) - v*math.sin(psi), math.sin(psi), math.cos(psi), 0], [0, 0, 0, 0, 0, 1], [0, 0, 0, -0.162790697674419*u - 0.465116279069767, 1.31007751937984*r, 0.48062015503876*r + 1.31007751937984*v], [0, 0, 0, -0.597432905484247*r + 0.904317386231039*v, 0.904317386231039*u - 0.452887981330222*v - 0.798935239206535, -0.022607934655776*r - 0.597432905484247*u + 0.0464556592765461], [0, 0, 0, -0.904317386231039*r - 4.92998833138856*v, -4.92998833138856*u + 1.01735705950992*v + 1.61355017502917, 0.123249708284714*r - 0.904317386231039*u - 0.285516336056009]]))\n"
     ]
    }
   ],
   "source": [
    "Jf = lambdify(state, fx.jacobian(state), 'numpy')\n",
    "Jf(1, 2, 1, 2, 1, 1)\n",
    "# print(python(fx.jacobian(state), 'numpy'))\n",
    "print(lambdastr(state, fx.jacobian(state)))"
   ]
  },
  {
   "cell_type": "code",
   "execution_count": null,
   "id": "686ef2d6-b6d6-4871-9189-afef9c8a9a3d",
   "metadata": {},
   "outputs": [],
   "source": []
  },
  {
   "cell_type": "code",
   "execution_count": null,
   "id": "13376aee-51c1-4c22-9594-4d52f1e4737b",
   "metadata": {},
   "outputs": [],
   "source": []
  }
 ],
 "metadata": {
  "kernelspec": {
   "display_name": "Python 3 (ipykernel)",
   "language": "python",
   "name": "python3"
  },
  "language_info": {
   "codemirror_mode": {
    "name": "ipython",
    "version": 3
   },
   "file_extension": ".py",
   "mimetype": "text/x-python",
   "name": "python",
   "nbconvert_exporter": "python",
   "pygments_lexer": "ipython3",
   "version": "3.11.0"
  }
 },
 "nbformat": 4,
 "nbformat_minor": 5
}
